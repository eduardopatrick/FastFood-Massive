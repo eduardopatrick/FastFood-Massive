{
 "cells": [
  {
   "attachments": {},
   "cell_type": "markdown",
   "id": "7fd43e90",
   "metadata": {},
   "source": [
    "# Análise de Elementos nutricionais em FastFoods\n",
    "\n",
    "*Redução de dimensionalidade* ou *redução de dimensão* é uma técnica usada em mineração de dados e aprendizado de máquina que tem como objetivo a redução do número de variáveis de entrada para extrair um conjunto de variáveis principais. Apesar do risco de perda de acurácia na análise, a redução do tempo de processamento torna esta técnca importante para a análise de dados multivariáveis. \n",
    "\n",
    "Os algoritmos de seleção de atributos tentam encontrar um subconjunto das variáveis de entrada (também chamadas de atributos) mais importante para a análise. A análise de dados como regressão ou classificação pode ser feita no espaço reduzido com mais velocidade e precisão do que no espaço original.\n",
    "\n",
    "## Singular Value Decomposition (SVD)\n",
    "\n",
    "A decomposição de valor singular, ou Singular Value Decomposition (SVD), é uma técnica de álgebra linear onde uma matriz A é transformada por fatoração em um produto de três matrizes A = UDV', onde as colunas de U e V' são ortonormais e a matriz D é diagonal com números reais positivas. O SVD é útil em várias tarefas, dentre elas, pode ser usada na redução de dimensionalidade. Diferentemente da decomposição espectral, comumente usada em Álgebra Linear, a decomposição de valor singular pode ser usada para todas as matrizes (retangulares ou quadradas), sendo uma ferramenta útil para análise de dados. A matriz diagonal D representa a relevância de cada atributo e através da seleção dos maiores valores podemos excluir linhas da matrz U e colunas da matriz V', reduzindo a dimensionalidade da matriz.\n",
    "\n",
    "## Principal Component Analysis (PCA)\n",
    "\n",
    "A principal técnica linear para redução de dimensionalidade é a análise de componentes principais (PCA). PCA realiza um mapeamento linear dos dados de entrada para um espaço de menor dimensão, de forma que a variação dos dados na representação de dimensão menor seja maximizada. Na prática, a matriz de covariância (e às vezes a de correlação) dos dados é construída e são calculados os autovetores nessa matriz. Os vetores próprios que correspondem aos maiores valores próprios (os componentes principais) que agora podem ser usados para reconstruir uma grande parte da variação dos dados originais. Além disso, os primeiros autovetores podem ser interpretados como termos do comportamento físico do sistema, porque geralmente contribuem com a maior parte da energia do sistema. Uma redução usando o PCA deve ser comprovada caso a caso, pois nem todos os sistemas exibem esse comportamento de equivalencia. O espaço original foi reduzido com perda de dados, mas esperamos manter a variação mais importante para a análise do problema.\n",
    "\n",
    "## Exemplo\n",
    "\n",
    "Este exemplo apresenta a redução de dimensionalidade usando SVD e PCA sobre dados nutricionais de alimentos da USDA National Nutrient Database com 45 campos. O objetivo é obter relações dos alimentos através apenas dos principais componente."
   ]
  },
  {
   "cell_type": "code",
   "execution_count": 137,
   "id": "8be0c498-a442-4231-9d88-3fa059ed6074",
   "metadata": {
    "tags": []
   },
   "outputs": [],
   "source": [
    "# Carregando bibliotecas\n",
    "import pyspark\n",
    "import time\n",
    "import pandas as pd\n",
    "import numpy as np\n",
    "import random as rd\n",
    "import matplotlib.pyplot as plt\n",
    "\n",
    "from pyspark.sql import SparkSession\n",
    "from pyspark.sql.types import *\n",
    "from pyspark.sql import functions as F\n",
    "\n",
    "from pyspark.ml.feature import VectorSlicer\n",
    "from pyspark.ml.feature import StandardScaler\n",
    "from pyspark.ml.feature import VectorAssembler\n",
    "from pyspark.ml.feature import PCA\n",
    "\n",
    "from pyspark.mllib.linalg import Vectors\n",
    "from pyspark.mllib.linalg.distributed import RowMatrix\n",
    "from pyspark.mllib.linalg.distributed import SingularValueDecomposition\n",
    "\n",
    "# Mostrar Gráficos em linha\n",
    "%matplotlib inline\n",
    "# Gravar tempo inicial\n",
    "start_time = time.time()\n",
    "\n",
    "# Number of principal components\n",
    "kComp = 8\n",
    "\n",
    "# Number of components (collumn)\n",
    "TotalComp = 14\n",
    "\n",
    "# Set principal component column label\n",
    "colname = [] \n",
    "for i in range(1, kComp+1):\n",
    "    colname.append(\"PC\"+str(i))"
   ]
  },
  {
   "cell_type": "code",
   "execution_count": 138,
   "id": "2d45ed1a-31e5-471f-944a-de69e4b7fb41",
   "metadata": {
    "tags": []
   },
   "outputs": [],
   "source": [
    "# Criando a sessão do Spark\n",
    "spark = SparkSession.builder\\\n",
    ".master(\"local[*]\")\\\n",
    ".appName(\"ReducaoFastFood\")\\\n",
    ".getOrCreate()\n"
   ]
  },
  {
   "cell_type": "code",
   "execution_count": 139,
   "id": "db9a1628-8886-4c2b-820f-0a568b108e81",
   "metadata": {
    "tags": []
   },
   "outputs": [],
   "source": [
    "# Definindo o schema do nosso DataFrame\n",
    "fast_food_schema = StructType([\n",
    "    StructField('restaurant', StringType(), True),\n",
    "    StructField('item', StringType(), True),\n",
    "    StructField('calories', IntegerType(), True),\n",
    "    StructField('cal_fat', IntegerType(), True),\n",
    "    StructField('total_fat', IntegerType(), True),\n",
    "    StructField('sat_fat', FloatType(), True),\n",
    "    StructField('trans_fat', FloatType(), True),\n",
    "    StructField('cholesterol', IntegerType(), True),\n",
    "    StructField('sodium', IntegerType(), True),\n",
    "    StructField('total_carb', IntegerType(), True),\n",
    "    StructField('fiber', IntegerType(), True),\n",
    "    StructField('sugar', IntegerType(), True),\n",
    "    StructField('protein', IntegerType(), True),\n",
    "    StructField('vit_a', IntegerType(), True),\n",
    "    StructField('vit_c', IntegerType(), True),\n",
    "    StructField('calcium', IntegerType(), True),\n",
    "    StructField('salad', StringType(), True),\n",
    "]) "
   ]
  },
  {
   "cell_type": "code",
   "execution_count": 140,
   "id": "0e7f4189-36e5-4e64-a3d9-ff0f39d2c1f1",
   "metadata": {
    "tags": []
   },
   "outputs": [
    {
     "name": "stdout",
     "output_type": "stream",
     "text": [
      "+----------+--------------------+--------+-------+---------+-------+---------+-----------+------+----------+-----+-----+-------+-----+-----+-------+-----+\n",
      "|restaurant|                item|calories|cal_fat|total_fat|sat_fat|trans_fat|cholesterol|sodium|total_carb|fiber|sugar|protein|vit_a|vit_c|calcium|salad|\n",
      "+----------+--------------------+--------+-------+---------+-------+---------+-----------+------+----------+-----+-----+-------+-----+-----+-------+-----+\n",
      "| Mcdonalds|Artisan Grilled C...|     380|     60|        7|    2.0|      0.0|         95|  1110|        44|    3|   11|     37|    4|   20|     20|Other|\n",
      "| Mcdonalds|Single Bacon Smok...|     840|    410|       45|   17.0|      1.5|        130|  1580|        62|    2|   18|     46|    6|   20|     20|Other|\n",
      "| Mcdonalds|Double Bacon Smok...|    1130|    600|       67|   27.0|      3.0|        220|  1920|        63|    3|   18|     70|   10|   20|     50|Other|\n",
      "| Mcdonalds|Grilled Bacon Smo...|     750|    280|       31|   10.0|      0.5|        155|  1940|        62|    2|   18|     55|    6|   25|     20|Other|\n",
      "| Mcdonalds|Crispy Bacon Smok...|     920|    410|       45|   12.0|      0.5|        120|  1980|        81|    4|   18|     46|    6|   20|     20|Other|\n",
      "| Mcdonalds|             Big Mac|     540|    250|       28|   10.0|      1.0|         80|   950|        46|    3|    9|     25|   10|    2|     15|Other|\n",
      "| Mcdonalds|        Cheeseburger|     300|    100|       12|    5.0|      0.5|         40|   680|        33|    2|    7|     15|   10|    2|     10|Other|\n",
      "| Mcdonalds|Classic Chicken S...|     510|    210|       24|    4.0|      0.0|         65|  1040|        49|    3|    6|     25|    0|    4|      2|Other|\n",
      "| Mcdonalds| Double Cheeseburger|     430|    190|       21|   11.0|      1.0|         85|  1040|        35|    2|    7|     25|   20|    4|     15|Other|\n",
      "| Mcdonalds|Double Quarter Po...|     770|    400|       45|   21.0|      2.5|        175|  1290|        42|    3|   10|     51|   20|    6|     20|Other|\n",
      "| Mcdonalds|       Filet-O-Fish®|     380|    170|       18|    4.0|      0.0|         40|   640|        38|    2|    5|     15|    2|    0|     15|Other|\n",
      "| Mcdonalds|Garlic White Ched...|     620|    300|       34|   13.0|      1.5|         95|   790|        48|    3|   11|     32|   10|   10|     35|Other|\n",
      "| Mcdonalds|Grilled Garlic Wh...|     530|    180|       20|    7.0|      0.0|        125|  1150|        48|    3|   11|     42|   10|   20|     35|Other|\n",
      "| Mcdonalds|Crispy Garlic Whi...|     700|    300|       34|    9.0|      0.0|         85|  1190|        67|    5|   11|     33|   10|   15|     35|Other|\n",
      "| Mcdonalds|           Hamburger|     250|     70|        8|    3.0|      0.0|         30|   480|        31|    2|    6|     13|    2|    2|      4|Other|\n",
      "| Mcdonalds|        Lobster Roll|     290|     50|        5|    1.5|      0.0|         65|   630|        35|    2|    3|     24|    4|    6|     15|Other|\n",
      "| Mcdonalds|Maple Bacon Dijon...|     640|    330|       36|   14.0|      1.5|        110|  1260|        40|    3|   10|     37|    6|   15|     15|Other|\n",
      "| Mcdonalds|Grilled Maple Bac...|     580|    190|       21|    8.0|      0.0|        135|  1890|        50|    3|   14|     48|    4|   30|     30|Other|\n",
      "| Mcdonalds|Crispy Maple Baco...|     740|    310|       35|    9.0|      0.5|         95|  1780|        69|    5|   14|     39|    4|   20|    290|Other|\n",
      "| Mcdonalds|           McChicken|     350|    130|       15|    3.5|      0.0|         40|   600|        40|    2|    5|     15|    2|    2|      4|Other|\n",
      "+----------+--------------------+--------+-------+---------+-------+---------+-----------+------+----------+-----+-----+-------+-----+-----+-------+-----+\n",
      "only showing top 20 rows\n",
      "\n"
     ]
    }
   ],
   "source": [
    "# Extraindo dados da tabela para o DataFrame do Spark\n",
    "data_path = \"fastfood.csv\"\n",
    "fast_food = spark.read.format(\"csv\").options(header='true'). \\\n",
    "            load(data_path, schema=fast_food_schema)\n",
    "#food.types\n",
    "fast_food.show(20)"
   ]
  },
  {
   "cell_type": "code",
   "execution_count": 141,
   "id": "f66fefa9-64da-46e2-85b6-69e6310b3872",
   "metadata": {},
   "outputs": [
    {
     "name": "stdout",
     "output_type": "stream",
     "text": [
      "Tabela final reduzida:\n",
      "root\n",
      " |-- restaurant: string (nullable = true)\n",
      " |-- item: string (nullable = true)\n",
      " |-- values: vector (nullable = true)\n",
      "\n",
      "+----------+--------------------+--------------------+\n",
      "|restaurant|                item|              values|\n",
      "+----------+--------------------+--------------------+\n",
      "| Mcdonalds|Artisan Grilled C...|[380.0,60.0,7.0,2...|\n",
      "| Mcdonalds|Single Bacon Smok...|[840.0,410.0,45.0...|\n",
      "| Mcdonalds|Double Bacon Smok...|[1130.0,600.0,67....|\n",
      "| Mcdonalds|Grilled Bacon Smo...|[750.0,280.0,31.0...|\n",
      "| Mcdonalds|Crispy Bacon Smok...|[920.0,410.0,45.0...|\n",
      "| Mcdonalds|             Big Mac|[540.0,250.0,28.0...|\n",
      "| Mcdonalds|        Cheeseburger|[300.0,100.0,12.0...|\n",
      "| Mcdonalds|Classic Chicken S...|[510.0,210.0,24.0...|\n",
      "| Mcdonalds| Double Cheeseburger|[430.0,190.0,21.0...|\n",
      "| Mcdonalds|Double Quarter Po...|[770.0,400.0,45.0...|\n",
      "| Mcdonalds|       Filet-O-Fish®|[380.0,170.0,18.0...|\n",
      "| Mcdonalds|Garlic White Ched...|[620.0,300.0,34.0...|\n",
      "| Mcdonalds|Grilled Garlic Wh...|[530.0,180.0,20.0...|\n",
      "| Mcdonalds|Crispy Garlic Whi...|[700.0,300.0,34.0...|\n",
      "| Mcdonalds|           Hamburger|[250.0,70.0,8.0,3...|\n",
      "| Mcdonalds|        Lobster Roll|[290.0,50.0,5.0,1...|\n",
      "| Mcdonalds|Maple Bacon Dijon...|[640.0,330.0,36.0...|\n",
      "| Mcdonalds|Grilled Maple Bac...|[580.0,190.0,21.0...|\n",
      "| Mcdonalds|Crispy Maple Baco...|[740.0,310.0,35.0...|\n",
      "| Mcdonalds|           McChicken|[350.0,130.0,15.0...|\n",
      "+----------+--------------------+--------------------+\n",
      "only showing top 20 rows\n",
      "\n"
     ]
    }
   ],
   "source": [
    "# Tratando parametros para converter colunas da tabela em vetores\n",
    "\n",
    "# lista de colunas com dados não-relevantes para a análise, iremos removê-las.\n",
    "avoid =  [\"salad\", \"restaurant\", \"item\"]\n",
    "\n",
    "# lista das nossas colunas referência utilizadas posteriormente para reverter o vetor.\n",
    "list = [ x for x in fast_food.columns if x not in avoid]\n",
    "\n",
    "\n",
    "assembler = VectorAssembler(\n",
    "                inputCols=list,\n",
    "                outputCol=\"values\")\n",
    "\n",
    "# Cria a tabela final de dados com seus respectivos nomes de colunas correspondentes ao vetor gerado,\n",
    "# adicionando novamente algumas das colunas removidas para correlacionar,\n",
    "# porém  retirando o que poderia ser redundante como a coluna salad que continha valores desconexos.\n",
    "data = (assembler.setHandleInvalid(\"skip\").transform(fast_food).select(\"restaurant\",\"item\", \"values\"))\n",
    "print(\"Tabela final reduzida:\")\n",
    "data.printSchema()\n",
    "data.show()\n"
   ]
  },
  {
   "cell_type": "code",
   "execution_count": 142,
   "id": "b2e6be84",
   "metadata": {},
   "outputs": [
    {
     "name": "stdout",
     "output_type": "stream",
     "text": [
      "root\n",
      " |-- restaurant: string (nullable = true)\n",
      " |-- item: string (nullable = true)\n",
      " |-- scalled_values: vector (nullable = true)\n",
      "\n",
      "+----------+--------------------+--------------------+\n",
      "|restaurant|                item|      scalled_values|\n",
      "+----------+--------------------+--------------------+\n",
      "| Mcdonalds|Artisan Grilled C...|[-0.5264572657437...|\n",
      "| Mcdonalds|Single Bacon Smok...|[1.01593107566295...|\n",
      "| Mcdonalds|Double Bacon Smok...|[1.98830633437588...|\n",
      "| Mcdonalds|Grilled Bacon Smo...|[0.71415944364859...|\n",
      "| Mcdonalds|Crispy Bacon Smok...|[1.28417252634238...|\n",
      "| Mcdonalds|             Big Mac|[0.01002563561509...|\n",
      "| Mcdonalds|        Cheeseburger|[-0.7946987164231...|\n",
      "| Mcdonalds|Classic Chicken S...|[-0.0905649083896...|\n",
      "| Mcdonalds| Double Cheeseburger|[-0.3588063590691...|\n",
      "| Mcdonalds|Double Quarter Po...|[0.78121980631845...|\n",
      "| Mcdonalds|       Filet-O-Fish®|[-0.5264572657437...|\n",
      "| Mcdonalds|Garlic White Ched...|[0.27826708629452...|\n",
      "| Mcdonalds|Grilled Garlic Wh...|[-0.0235045457198...|\n",
      "| Mcdonalds|Crispy Garlic Whi...|[0.54650853697395...|\n",
      "| Mcdonalds|           Hamburger|[-0.9623496230978...|\n",
      "| Mcdonalds|        Lobster Roll|[-0.8282288977581...|\n",
      "| Mcdonalds|Maple Bacon Dijon...|[0.34532744896438...|\n",
      "| Mcdonalds|Grilled Maple Bac...|[0.14414636095480...|\n",
      "| Mcdonalds|Crispy Maple Baco...|[0.68062926231366...|\n",
      "| Mcdonalds|           McChicken|[-0.6270478097485...|\n",
      "+----------+--------------------+--------------------+\n",
      "only showing top 20 rows\n",
      "\n"
     ]
    }
   ],
   "source": [
    "# Os valores do vetor possuem escalas diferentes, então vamos precisar normalizar as colunas\n",
    "# Para adequar os valores e associar eles de maneira escalonada iremos usar a seguinte função\n",
    "standardScaler = StandardScaler(inputCol=\"values\", outputCol=\"scalled_values\", withStd=True, withMean=True)\n",
    "scalledmodel = standardScaler.fit(data)\n",
    "\n",
    "# Removeremos agora a coluna não-escalonada, pois ela não tem mais utilidade.\n",
    "new_scalled_data = scalledmodel.transform(data).drop(\"values\")\n",
    "\n",
    "new_scalled_data.printSchema()\n",
    "new_scalled_data.show()"
   ]
  },
  {
   "attachments": {},
   "cell_type": "markdown",
   "id": "6bf46e4f",
   "metadata": {},
   "source": [
    "## Utilizando os valores escalonados\n",
    "\n",
    "A partir daqui iremos utilizar os dois métodos para trabalhar com os valores escalonados obtidos\n",
    "\n",
    "\n"
   ]
  },
  {
   "attachments": {},
   "cell_type": "markdown",
   "id": "5cb1b069",
   "metadata": {},
   "source": [
    "## SVD\n",
    "Testando os valores escalonados com uma redução SVD"
   ]
  },
  {
   "cell_type": "code",
   "execution_count": 143,
   "id": "169f70e8-71c8-4d22-96e2-59e88d1f8058",
   "metadata": {
    "tags": []
   },
   "outputs": [
    {
     "name": "stderr",
     "output_type": "stream",
     "text": [
      "                                                                                \r"
     ]
    },
    {
     "name": "stdout",
     "output_type": "stream",
     "text": [
      "Conjunto referente ao fator U:\n",
      "[0.02627678099337144,0.014101737916536515,-0.034616072372059256,0.04616505156302954,0.03680587102125548,0.027609382451759618,-0.07482868894958657,-0.07236590341792393]\n",
      "[-0.06486090667890371,-0.0359566408590611,0.0013904442635983712,0.0019014473874791648,0.09748656180167886,0.026058822896193393,0.022548755398257465,0.024907376418845974]\n",
      "[-0.14245194089900792,-0.06609608134430535,0.05813917492789101,-0.05783551175455166,0.10602354984788008,0.0369997313003958,-0.02848198826468687,-0.04278069269211017]\n",
      "[-0.04674651335000374,-0.0017150514759279212,-0.025010323786503773,0.07693270837361836,0.0723863968423955,0.02739148762003104,-0.060914607790142905,-0.013397019061540016]\n",
      "[-0.06315760082291073,0.008173681838684908,-0.037725896362521334,0.04457012687387734,0.04069151495272295,-0.0019015734339066868,0.03338311725212666,0.05702695534319157]\n",
      "[-0.001327793796557648,-0.03498852589761148,-0.010185982581323624,-0.022954431321390606,0.03788048255998962,-0.005716279599636514,0.03086830339890253,-0.017785675871963023]\n",
      "[0.045365560053947845,-0.027640280670933125,-0.02145912658399142,-0.012636672712712644,0.03725869622146669,-0.0038881772721133506,0.009844026774989995,-0.021051635192415357]\n",
      "[0.019579183695795355,-0.019141894511761563,-0.04923854469925647,0.03347878837275178,-0.016850974442710616,0.0034228726291585243,0.02675097215098709,0.0066437400557817355]\n",
      "\n",
      "Vetor de valores únicos referentes ao fator s: [44.86150523656334,27.968236093142366,19.666306920590454,16.861078844669475,14.284897068359252,13.20953202557145,12.22052742236087,8.975598973191886]\n",
      "Conjunto referente ao fator V:\n",
      "DenseMatrix([[-0.3746099 ,  0.03601107, -0.08049573,  0.05221398, -0.10180513,\n",
      "              -0.04409863,  0.10339318,  0.02074904],\n",
      "             [-0.35288466, -0.18191001,  0.04589069,  0.02099556, -0.14035884,\n",
      "              -0.02768568,  0.17273436,  0.35028138],\n",
      "             [-0.35362278, -0.18063491,  0.04701499,  0.01930129, -0.13919932,\n",
      "              -0.02336417,  0.17245567,  0.33111518],\n",
      "             [-0.30894044, -0.21672842,  0.21377387, -0.33201705,  0.1057966 ,\n",
      "               0.01143203,  0.06369713,  0.19986658],\n",
      "             [-0.23000742, -0.29227794,  0.22913177, -0.40460563,  0.30741485,\n",
      "               0.14560573,  0.2404773 , -0.51458335],\n",
      "             [-0.33766901, -0.14814567,  0.11524696,  0.24237986,  0.06469334,\n",
      "               0.09193012, -0.34522979, -0.20908105],\n",
      "             [-0.32317484,  0.12806963, -0.16363538,  0.28445703, -0.16677543,\n",
      "              -0.0539145 , -0.03401924,  0.02342155],\n",
      "             [-0.25543762,  0.35380498, -0.30374893, -0.09026902, -0.02971361,\n",
      "              -0.15106299,  0.29118922, -0.02031213],\n",
      "             [-0.10950581,  0.51410655,  0.05590685, -0.19367474, -0.28077759,\n",
      "              -0.01945797,  0.33030522, -0.37573979],\n",
      "             [-0.16045891,  0.31968638, -0.1315391 ,  0.16884706,  0.85164406,\n",
      "              -0.07990729,  0.04830751,  0.14791347],\n",
      "             [-0.33863669,  0.03709304,  0.02451383,  0.30953858, -0.07631653,\n",
      "               0.06237888, -0.37519936, -0.40661858],\n",
      "             [ 0.04976111,  0.13240558,  0.71571841,  0.21828156,  0.00886186,\n",
      "              -0.62380176,  0.07104347, -0.00085984],\n",
      "             [-0.00922456,  0.37866204,  0.47176242,  0.12287163, -0.01389756,\n",
      "               0.72224146,  0.05570644,  0.22834608],\n",
      "             [-0.15184788,  0.32903106,  0.05329131, -0.5917173 , -0.04183455,\n",
      "              -0.14077284, -0.63431294,  0.1930708 ]])\n"
     ]
    }
   ],
   "source": [
    "# registrando tempo de execução para ter o valor depois\n",
    "start_time_svd = time.time()\n",
    "\n",
    "# Percorrendo as linhas dos nossos valores escalonados para gerar uma matriz\n",
    "mat = RowMatrix(new_scalled_data.rdd.map(lambda v: Vectors.fromML(v.scalled_values)))\n",
    "\n",
    "# Contabilizar a quantidade de k -> Componentes encontrados e seus valores únicos correspondentes nos respectivos vetores\n",
    "svd_model = mat.computeSVD(kComp, computeU=True)\n",
    "\n",
    "U = svd_model.U # linhas da matriz U.\n",
    "s = svd_model.s # valores de relevância para cada componente encontrada, também pode ser representada por : uma matriz diagonal retangular com números reais não negativos na diagonal\n",
    "V = svd_model.V # matriz densa local\n",
    "\n",
    "# amostras de valores encontrados para U\n",
    "collected = U.rows.take(8)\n",
    "\n",
    "print(\"Conjunto referente ao fator U:\")\n",
    "for vector in collected:\n",
    "    print(vector)\n",
    "\n",
    "print()\n",
    "print(\"Vetor de valores únicos referentes ao fator s: %s\" % s)\n",
    "val_s = sum(s)\n",
    "\n",
    "print(\"Conjunto referente ao fator V:\\n%s\" % V)"
   ]
  },
  {
   "cell_type": "code",
   "execution_count": 144,
   "id": "eb18754f",
   "metadata": {},
   "outputs": [
    {
     "name": "stdout",
     "output_type": "stream",
     "text": [
      "                  PC1       PC2       PC3       PC4       PC5       PC6  \\\n",
      "calories    -0.374610  0.036011 -0.080496  0.052214 -0.101805 -0.044099   \n",
      "cal_fat     -0.352885 -0.181910  0.045891  0.020996 -0.140359 -0.027686   \n",
      "total_fat   -0.353623 -0.180635  0.047015  0.019301 -0.139199 -0.023364   \n",
      "sat_fat     -0.308940 -0.216728  0.213774 -0.332017  0.105797  0.011432   \n",
      "trans_fat   -0.230007 -0.292278  0.229132 -0.404606  0.307415  0.145606   \n",
      "cholesterol -0.337669 -0.148146  0.115247  0.242380  0.064693  0.091930   \n",
      "sodium      -0.323175  0.128070 -0.163635  0.284457 -0.166775 -0.053914   \n",
      "total_carb  -0.255438  0.353805 -0.303749 -0.090269 -0.029714 -0.151063   \n",
      "fiber       -0.109506  0.514107  0.055907 -0.193675 -0.280778 -0.019458   \n",
      "sugar       -0.160459  0.319686 -0.131539  0.168847  0.851644 -0.079907   \n",
      "protein     -0.338637  0.037093  0.024514  0.309539 -0.076317  0.062379   \n",
      "vit_a        0.049761  0.132406  0.715718  0.218282  0.008862 -0.623802   \n",
      "vit_c       -0.009225  0.378662  0.471762  0.122872 -0.013898  0.722241   \n",
      "calcium     -0.151848  0.329031  0.053291 -0.591717 -0.041835 -0.140773   \n",
      "\n",
      "                  PC7       PC8  \n",
      "calories     0.103393  0.020749  \n",
      "cal_fat      0.172734  0.350281  \n",
      "total_fat    0.172456  0.331115  \n",
      "sat_fat      0.063697  0.199867  \n",
      "trans_fat    0.240477 -0.514583  \n",
      "cholesterol -0.345230 -0.209081  \n",
      "sodium      -0.034019  0.023422  \n",
      "total_carb   0.291189 -0.020312  \n",
      "fiber        0.330305 -0.375740  \n",
      "sugar        0.048308  0.147913  \n",
      "protein     -0.375199 -0.406619  \n",
      "vit_a        0.071043 -0.000860  \n",
      "vit_c        0.055706  0.228346  \n",
      "calcium     -0.634313  0.193071  \n"
     ]
    }
   ],
   "source": [
    "rows = V.toArray().tolist()\n",
    "# Utilizando pandas para melhorar a visualização dos dados\n",
    "svd_comp = pd.DataFrame(rows, columns = colname, index = list)\n",
    "print(svd_comp)\n",
    "\n",
    "time_svd = time.time() - start_time_svd"
   ]
  },
  {
   "cell_type": "code",
   "execution_count": 145,
   "id": "6b3d8089",
   "metadata": {},
   "outputs": [],
   "source": [
    "# Calcular a soma total dos valores singulares para mostrar a importância de cada componente\n",
    "svdmodel = mat.computeSVD(TotalComp, computeU=True)\n",
    "total_s = sum(svdmodel.s)    \n",
    "exvar_svd = val_s / total_s"
   ]
  },
  {
   "cell_type": "code",
   "execution_count": 146,
   "id": "790dd0c4",
   "metadata": {},
   "outputs": [
    {
     "data": {
      "image/png": "[encoded data removed]",
      "text/plain": [
       "<Figure size 900x300 with 1 Axes>"
      ]
     },
     "metadata": {},
     "output_type": "display_data"
    }
   ],
   "source": [
    "names = colname\n",
    "values = s\n",
    "\n",
    "fig, ax = plt.subplots(figsize=(9, 3), sharey=True)\n",
    "ax.bar(names, values)\n",
    "fig.suptitle('Relevância de cada componente')\n",
    "plt.show()"
   ]
  },
  {
   "attachments": {},
   "cell_type": "markdown",
   "id": "a0abcb57",
   "metadata": {},
   "source": [
    "##  PCA\n",
    "Testando os valores escalonados com uma redução PCA"
   ]
  },
  {
   "cell_type": "code",
   "execution_count": 147,
   "id": "e6a30d04",
   "metadata": {},
   "outputs": [
    {
     "name": "stdout",
     "output_type": "stream",
     "text": [
      "root\n",
      " |-- restaurant: string (nullable = true)\n",
      " |-- item: string (nullable = true)\n",
      " |-- scalled_values: vector (nullable = true)\n",
      " |-- pca_values: vector (nullable = true)\n",
      "\n"
     ]
    }
   ],
   "source": [
    "# registrando tempo de execução para ter o valor depois\n",
    "start_time_pca =  time.time()\n",
    "\n",
    "# k = número de componentes a serem reduzidas, O PCA encontra os k componentes mais importantes\n",
    "pca = PCA(k=kComp, inputCol=\"scalled_values\", outputCol=\"pca_values\")\n",
    "pcamodel = pca.fit(new_scalled_data)\n",
    "result = pcamodel.transform(new_scalled_data)\n",
    "\n",
    "result.printSchema()"
   ]
  },
  {
   "cell_type": "code",
   "execution_count": 148,
   "id": "43677d4b",
   "metadata": {},
   "outputs": [
    {
     "name": "stdout",
     "output_type": "stream",
     "text": [
      "Relevância de cada componente\n",
      "[47.91796791 18.62433881  9.20865781  6.7689519   4.85853058  4.15456515\n",
      "  3.55574501  1.91812802]\n"
     ]
    },
    {
     "data": {
      "image/png": "[encoded data removed]",
      "text/plain": [
       "<Figure size 900x300 with 1 Axes>"
      ]
     },
     "metadata": {},
     "output_type": "display_data"
    }
   ],
   "source": [
    "# Mostrando a importância de cada componente: Variância explicada\n",
    "pca_var= np.round(100.00*pcamodel.explainedVariance.toArray(),kComp)\n",
    "exvar_pca = sum(pcamodel.explainedVariance)\n",
    "\n",
    "print(\"Relevância de cada componente\")\n",
    "print(pca_var)\n",
    "\n",
    "names = colname\n",
    "values = pca_var\n",
    "\n",
    "fig, ax = plt.subplots(figsize=(9, 3), sharey=True)\n",
    "ax.bar(names, values)\n",
    "fig.suptitle('Relevância de cada componente')\n",
    "plt.show()"
   ]
  },
  {
   "cell_type": "code",
   "execution_count": 149,
   "id": "bc663be3",
   "metadata": {},
   "outputs": [
    {
     "name": "stdout",
     "output_type": "stream",
     "text": [
      "                PC1     PC2     PC3     PC4     PC5     PC6     PC7     PC8\n",
      "calories    -0.3746  0.0360 -0.0805  0.0522 -0.1018 -0.0441  0.1034  0.0207\n",
      "cal_fat     -0.3529 -0.1819  0.0459  0.0210 -0.1404 -0.0277  0.1727  0.3503\n",
      "total_fat   -0.3536 -0.1806  0.0470  0.0193 -0.1392 -0.0234  0.1725  0.3311\n",
      "sat_fat     -0.3089 -0.2167  0.2138 -0.3320  0.1058  0.0114  0.0637  0.1999\n",
      "trans_fat   -0.2300 -0.2923  0.2291 -0.4046  0.3074  0.1456  0.2405 -0.5146\n",
      "cholesterol -0.3377 -0.1481  0.1152  0.2424  0.0647  0.0919 -0.3452 -0.2091\n",
      "sodium      -0.3232  0.1281 -0.1636  0.2845 -0.1668 -0.0539 -0.0340  0.0234\n",
      "total_carb  -0.2554  0.3538 -0.3037 -0.0903 -0.0297 -0.1511  0.2912 -0.0203\n",
      "fiber       -0.1095  0.5141  0.0559 -0.1937 -0.2808 -0.0195  0.3303 -0.3757\n",
      "sugar       -0.1605  0.3197 -0.1315  0.1688  0.8516 -0.0799  0.0483  0.1479\n",
      "protein     -0.3386  0.0371  0.0245  0.3095 -0.0763  0.0624 -0.3752 -0.4066\n",
      "vit_a        0.0498  0.1324  0.7157  0.2183  0.0089 -0.6238  0.0710 -0.0009\n",
      "vit_c       -0.0092  0.3787  0.4718  0.1229 -0.0139  0.7222  0.0557  0.2283\n",
      "calcium     -0.1518  0.3290  0.0533 -0.5917 -0.0418 -0.1408 -0.6343  0.1931\n"
     ]
    }
   ],
   "source": [
    "# List the relevance of each components by element\n",
    "pcs = np.round(pcamodel.pc.toArray(),4)\n",
    "# Utilizando pandas para melhorar a visualização dos dados\n",
    "pca_comp = pd.DataFrame(pcs, columns = colname, index = list)\n",
    "\n",
    "print(pca_comp)"
   ]
  },
  {
   "cell_type": "code",
   "execution_count": 150,
   "id": "590bdfef",
   "metadata": {},
   "outputs": [
    {
     "name": "stdout",
     "output_type": "stream",
     "text": [
      "+-------------------------------------------------+----------------------------------------------------------------------------------------------------------------------------------------------------------------------+\n",
      "|item                                             |pca_values                                                                                                                                                            |\n",
      "+-------------------------------------------------+----------------------------------------------------------------------------------------------------------------------------------------------------------------------+\n",
      "|Artisan Grilled Chicken Sandwich                 |[1.1788159481341611,0.3944007353733108,-0.6807703036542899,0.7783925742724711,0.5257680790499395,0.3647070217027599,-0.9144460452877392,-0.6495273284120207]          |\n",
      "|Single Bacon Smokehouse Burger                   |[-2.909757904623884,-1.005643820662551,0.027344903643899892,0.03206045431927802,1.3925855008852248,0.34422485559596244,0.2755576836845075,0.22355862220989925]        |\n",
      "|Double Bacon Smokehouse Burger                   |[-6.3906084925994575,-1.848590807869076,1.1433828582418035,-0.9751691237153021,1.5145354963990207,0.488749135550112,-0.3480649186319711,-0.3839823413997419]          |\n",
      "|Grilled Bacon Smokehouse Chicken Sandwich        |[-2.0971189534422705,-0.04796696459064477,-0.4918607037687284,1.2971684616215409,1.034032228043023,0.361828732944836,-0.7444086349218051,-0.12024627053258889]        |\n",
      "|Crispy Bacon Smokehouse Chicken Sandwich         |[-2.8333450400457862,0.2286034634145691,-0.7419290567197326,0.7515004233373674,0.581274102655249,-0.02511889517416294,0.4079592998234999,0.511851081822611]           |\n",
      "|Big Mac                                          |[-0.05956682835734734,-0.978567352855424,-0.20032065973209837,-0.38703647634451677,0.5411187942692297,-0.07550937843851618,0.37722694816804414,-0.15963709409391444]  |\n",
      "|Cheeseburger                                     |[2.03516730991981,-0.7730498954853771,-0.42202176964857707,-0.21306793494333134,0.5322366404249174,-0.05136100219707978,0.12029919915021986,-0.18895103521705223]     |\n",
      "|Classic Chicken Sandwich                         |[0.878351651896559,-0.5353650249749734,-0.9683403323787908,0.5644884903769705,-0.24071443541567217,0.04521454561432459,0.326910988745948,0.059631546422828724]        |\n",
      "|Double Cheeseburger                              |[0.4124791581706698,-1.2190419910213888,0.21656180911426354,-0.2849607638036893,0.5635876151641982,-0.1009263576237571,-0.02390471730558917,-0.29426712719620535]     |\n",
      "|Double Quarter Pounder® with Cheese              |[-3.1860108349233425,-2.2178357493256575,1.1217147321390044,-0.6761841286756077,1.0199783567061131,0.24295557394941547,0.06811013736563022,-0.9868395347623603]       |\n",
      "|Filet-O-Fish®                                    |[1.8418145833561204,-0.6987160059796714,-0.8032986160053364,-0.1294596183974929,-0.042000683509764145,-0.09524811272491343,0.00918683939923333,0.34252411235301505]   |\n",
      "|Garlic White Cheddar Burger                      |[-1.0060660505126493,-0.9610285263064771,0.24039829146877487,-1.0488248458058707,0.8863831616468371,0.10166596200610442,0.02014811561360822,-0.14144174185724862]     |\n",
      "|Grilled Garlic White Cheddar Chicken Sandwich    |[-0.16895196048103095,0.1864590535423112,-0.2983745903563481,0.47957993472728094,0.3409471798496839,0.156343885750322,-1.17462462251065,-0.10940262911354466]         |\n",
      "|Crispy Garlic White Cheddar Chicken Sandwich     |[-0.8533833446805099,0.48736487296610315,-0.5616856997347578,-0.08944688144125634,-0.10936245833674745,-0.23734257590964536,-0.0010407536933455463,0.5209291698643205]|\n",
      "|Hamburger                                        |[2.7329036000639966,-0.6433062862835613,-0.7753015669602324,0.04515459694847118,0.31433425200321896,0.07473490657583469,0.07755780431440328,-0.051511307967735113]    |\n",
      "|Lobster Roll                                     |[2.3360386045468022,-0.45799577730133856,-0.6585537521561549,0.22073887732729552,-0.08637556118388531,0.16150333582777046,-0.6604326920950896,-0.5121730949189314]    |\n",
      "|Maple Bacon Dijon 1/4 lb Burger                  |[-1.3696866507357763,-1.349922739921601,0.26444383686734485,-0.30109046632099323,0.6705823074374058,0.46145263943847714,0.2725060624039385,-0.288677197370024]        |\n",
      "|Grilled Maple Bacon Dijon Chicken Sandwich       |[-0.8883726912392462,0.4392192781151187,-0.4781503364176716,1.046299949388973,0.48012577950381546,0.4689330879722203,-1.1784098534138805,-0.08708336117116272]        |\n",
      "|Crispy Maple Bacon Dijon Chicken Sandwich        |[-3.127568069994543,3.8363778107979525,-0.1304323487030061,-5.8060586440341275,-0.17611954953109668,-1.3663974615745582,-6.29937204413733,2.0992040933421197]         |\n",
      "|McChicken                                        |[2.1093142193692116,-0.7102809157072085,-0.8361401235321312,0.12356808439679623,0.039644234752331524,0.01803518199947983,0.22344666279629044,0.11678924254118932]     |\n",
      "|McDouble                                         |[0.9868843761545546,-1.201083827493774,-0.1364806927627999,-0.2768956322615328,0.6207872778364443,0.07728460600017524,0.10055339799025081,-0.4672872490814334]        |\n",
      "|McRib                                            |[0.734249877270479,-0.6149094571966393,-0.8500781573853274,0.5189932123132717,0.6690808925882422,-0.04678177841663593,0.0219305650953062,0.29403172412707523]         |\n",
      "|Pico Guacamole 1/4 lb Burger                     |[-0.6620924394560027,-1.1984775219951234,0.3355834304762065,-0.6648579542319447,0.3670110780749204,0.42862045643003244,0.5494176432510017,-0.43378877800050836]       |\n",
      "|Grilled Pico Guacamole Chicken Sandwich          |[-0.1528316076860779,0.578734969884256,-0.4528322122314114,0.6760554083576783,0.2896761983906175,0.26606609654838487,-0.8782435910399604,-0.23033027929829142]        |\n",
      "|Crispy Pico Guacamole Chicken Sandwich           |[-0.7372189109310735,0.8118014706950268,-0.7803735605251617,0.1021557516045166,-0.13163288666022033,-0.22598229868065292,0.24806714160444082,0.3059405335351455]      |\n",
      "|Premium Buttermilk Crispy Chicken Deluxe Sandwich|[0.38122119466232995,0.37325255519590117,-0.9774537963480809,0.18684939714020773,0.17612154147804396,-0.13671836797405107,0.18196193896429097,0.15466558460408128]    |\n",
      "|Premium Crispy Chicken Deluxe Sandwich           |[0.7129396852910534,0.2993520827595076,-0.9803867367204532,0.23471307422949603,0.5099341188839025,-0.19009585020513683,0.16253851755604676,0.389301908303883]         |\n",
      "|Quarter Pounder® with Cheese                     |[-0.558522462812788,-1.1974267933175478,0.39171949617606683,-0.440626447667268,0.8926107565109642,-0.0176894471351893,0.26682560288417867,-0.5797987304181549]        |\n",
      "|Signature Sriracha Burger                        |[-1.2866453088776062,-0.516980502045289,0.34040609509097913,-0.7365609629449168,0.9111648956233652,-0.05366726370857276,0.4076215149620937,-0.1942110588483942]       |\n",
      "|Grilled Signature Sriracha Chicken Sandwich      |[-0.3350843726110849,0.7936340422447612,-0.31590265251488175,0.8704779333072762,0.44338093363246456,-0.03744911924895583,-0.7529658587007217,-0.16977788983094289]    |\n",
      "|Crispy Signature Sriracha Chicken Sandwich       |[-0.902828663023429,0.8517046063965686,-0.5359981847290679,0.3008101761904503,0.02243827948148749,-0.39263212284036675,0.2727543640062174,0.5219972004193275]         |\n",
      "|Sweet BBQ Bacon 1/4 lb Burger                    |[-1.7001133056705284,-1.042949593730367,0.05529148282462169,-0.20024456031548346,1.0614512771802362,0.34816719737350177,0.42858184347839384,-0.19666829710138323]     |\n",
      "|Grilled Sweet BBQ Bacon Chicken Sandwich         |[-1.152379086580937,0.8816896607791942,-0.712979250250558,1.2320332789224877,0.776511392451655,0.3722437658895637,-0.7799656169415969,-0.16641707689099958]           |\n",
      "|Crispy Sweet BBQ Bacon Chicken Sandwich          |[-1.9081618353292524,0.8046815949228109,-0.8816823271016112,0.2753890109849853,0.6419339199850344,-0.05647275583812298,0.31234980782989075,0.2560087308457276]        |\n",
      "|3 piece Buttermilk Crispy Chicken Tenders        |[1.6926580548695753,-1.7467920223281028,-0.5650757528628046,0.7307628501173058,-0.5024498158923332,0.26975261849716686,-0.5804317003050671,0.09566759443068826]       |\n",
      "|4 piece Buttermilk Crispy Chicken Tenders        |[0.6712078717502354,-1.7752700390290124,-0.6186528197577498,1.144304130569012,-0.6172153054052466,0.24607500185575984,-0.7244912316281059,0.09811658275353671]        |\n",
      "|6 piece Buttermilk Crispy Chicken Tenders        |[-1.6792310734309204,-2.035804978354244,-0.45598078725040747,1.4749439398953115,-0.9600139145142603,0.3004498058591117,-0.6711436547172994,-0.2619068104269083]       |\n",
      "|10 piece Buttermilk Crispy Chicken Tenders       |[-5.6917858295165775,-2.3576072090541897,-0.48620389508564216,2.6436958639047923,-1.2764294845132724,0.29030619973803085,-1.0445496883742937,-0.5169439105850957]     |\n",
      "|12 piece Buttermilk Crispy Chicken Tenders       |[-7.942124434065195,-2.6658464941660354,-0.41535738677620815,3.258648510410012,-1.9847290815316068,0.3168914697840776,-1.308213549879077,-0.417713375074308]          |\n",
      "|20 piece Buttermilk Crispy Chicken Tenders       |[-15.724862964136923,-3.4739441670519886,-0.2706559316822797,5.215029143564523,-3.18905095209944,0.3646255396983848,-1.8127615821260403,-1.0634925990804034]          |\n",
      "|4 Piece Chicken McNuggets                        |[3.237405272478404,-1.448188235980949,-0.49476092826365203,0.061355508751552386,-0.2391667205586114,0.3160553907515688,-0.09439941694196023,0.07896459191511179]      |\n",
      "|6 Piece Chicken McNuggets                        |[2.6141630767097968,-1.4829628595677178,-0.533546578334697,0.2608926167363616,-0.37962965995771275,0.29277720425064085,-0.1216938299689299,0.10835504804213975]       |\n",
      "|10 Piece Chicken McNuggets                       |[1.2437936239890741,-1.405131820609728,-0.5117863929689528,0.4858490429223431,-0.7539575601748159,0.2720252042420427,-0.0565019616172428,0.18672205976407966]         |\n",
      "|20 Piece Chicken McNuggets                       |[-2.143287384194731,-1.2528015141452173,-0.5512988488516908,1.1926725858849827,-1.6577707421172687,0.2031783874141348,0.10527145605402548,0.31528774864271775]        |\n",
      "|40 piece Chicken McNuggets                       |[-9.078806920701258,-1.3725160825998588,-0.49018875531512024,2.5139815752153067,-3.0541107200477073,0.16523018721212338,0.4746474813874459,0.38586232054962305]       |\n",
      "|4 piece Sweet N' Spicy Honey BBQ Glazed Tenders  |[-0.9569916139786299,0.8870214876447525,-1.4657246149607452,1.9877750315960017,2.828007424120183,-0.13267484518722325,0.06459394784073695,0.5256361890950181]         |\n",
      "|6 piece Sweet N' Spicy Honey BBQ Glazed Tenders  |[-3.752990294867906,2.1071609011872545,-1.9352447871429046,3.0386655479695976,4.11853200636126,-0.2653819274142503,0.1298710125694539,0.7865909966319127]             |\n",
      "|10 piece Sweet N' Spicy Honey BBQ Glazed Tenders |[-9.310391801892488,4.4835745349569205,-2.8989201589821056,5.303727499202333,6.815547459872925,-0.7104959176702852,0.4264208992309655,1.2427201961633336]             |\n",
      "|Premium Asian Salad w/o Chicken                  |[3.7864702015006615,1.1028027015726798,4.1662915795742625,0.9077791217448303,0.2891627313710882,-2.4398251028451408,0.8100562332728255,0.09736505863009637]           |\n",
      "|Premium Asian Salad w/ Grilled Chicken           |[2.1679614693159124,1.5292685532058108,4.470230222955713,2.0960371425430324,0.3814095814216334,-1.7721426772859785,-0.01843276939648058,-0.39001283528980013]         |\n",
      "|Premium Asian Salad w/ Crispy Chicken            |[0.5696464286332044,0.6196072960058312,4.5282793015259175,1.7901648678516162,-0.5355960871019493,-2.0874382062904,0.14514281418086594,0.41646415789567925]            |\n",
      "|Premium Bacon Ranch Salad w/o Chicken            |[2.8227319020918684,0.4466429541191428,4.4449821898431905,1.1858122845358332,-0.12420355711148455,-2.24156488930182,0.1382003710982234,0.3781806478252124]            |\n",
      "|Premium Bacon Ranch Salad w/ Grilled Chicken     |[1.728254337995108,0.7060696752555586,4.507307049367317,1.935391489484753,-0.3073930309007358,-1.9781184974682726,-0.3797660576494401,-0.04680851272734414]           |\n",
      "|Premium Bacon Ranch Salad w/ Crispy Chicken      |[0.5696464286332044,0.6196072960058312,4.5282793015259175,1.7901648678516162,-0.5355960871019493,-2.0874382062904,0.14514281418086594,0.41646415789567925]            |\n",
      "|Premium Southwest Salad w/o Chicken              |[2.855869734796332,1.4896419453641137,3.9700124141839837,0.7259106110492147,0.2826754379426154,-2.731596177710622,0.7816857175929561,0.1758306115928496]              |\n",
      "|Premium Southwest Salad w/ Grilled Chicken       |[1.2006190938535073,1.4783185266470587,4.22929543348159,1.8645713132234798,0.08768431861335825,-2.308726576726079,-0.31926460677346163,-0.6347921324691483]           |\n",
      "|Premium Southwest Salad w/ Crispy Chicken        |[0.5767472434349266,1.6939825996432032,3.91652192461558,1.2658173495364329,-0.3293559142673059,-2.801720541004814,0.8166571018155586,-0.07865551717435655]            |\n",
      "|Chargrilled Chicken Club Sandwich                |[0.6817307468549887,0.20189852871816016,0.5926116687322015,0.5238005215980156,0.006027028081950149,0.33236776367919274,-0.7311927064364458,0.03382009650079627]       |\n",
      "|Chargrilled Chicken Sandwich                     |[2.066349994424689,0.3776353405960605,0.22781757550756537,0.7332033510978105,0.18526540192171778,0.4986285494341293,-0.3051743559104347,-0.3651942916415568]          |\n",
      "|1 Piece Chick-n-Strips                           |[3.525657276105919,-1.5693494916181288,-0.4810860714827075,0.021117445142454977,0.07665292992051063,0.30231603376620847,-0.3941734014059581,0.06515835440727008]      |\n",
      "|2 Piece Chick-n-Strips                           |[2.522212474917761,-1.3684243565495764,-0.49715966115204585,0.36737230051603287,-0.2359491334497019,0.32528677833365005,-0.5353761296017607,-0.1525621007628767]      |\n",
      "|3 Piece Chick-n-Strips                           |[1.7067356332690689,-1.1905827666857645,-0.6193992889500357,0.6706844350363075,-0.21709128770216055,0.19495651916496645,-0.5690261615793226,-0.09304245043992061]     |\n",
      "|4 piece Chick-n-Strips                           |[0.8035976073005012,-1.091506042439188,-0.6975899936405423,1.0267871783580858,-0.33185243561868966,0.18871555968706794,-0.7049826745201105,-0.08523563781172155]      |\n",
      "|Chicken Deluxe                                   |[0.35381539403468554,-0.2048452711239789,-0.06973059529544512,0.6012165482462093,-0.33162362037019943,-0.4655852770502428,-0.3090869143131773,0.16380458479980822]    |\n",
      "|4 piece Chicken Nuggets                          |[3.35883214133705,-1.3822326529585214,-0.4609713155326332,0.2120678296055917,-0.19081945165460784,0.3774134146339125,-0.47463284149052926,-0.22738394470530185]       |\n",
      "|6 piece Chicken Nuggets                          |[2.822909059058769,-1.3671122299848586,-0.46690352901709925,0.5082632429436437,-0.32579195527042654,0.4273072001995293,-0.6213469948655147,-0.3035979884766947]       |\n",
      "|8 piece Chicken Nuggets                          |[2.1545550271414875,-1.3832154656195355,-0.5023947444789828,0.6940807621566999,-0.33345149684874725,0.3610808180764864,-0.7983696955610566,-0.320951235574995]        |\n",
      "|12 piece Chicken Nuggets                         |[1.0338346330561485,-1.1354977228922922,-0.4988306537757512,1.3553522187526912,-0.7006044447901718,0.5146337007991746,-1.0571249343773645,-0.6697801685349549]        |\n",
      "|Chicken Salad Sandwich                           |[0.6673595372239094,0.6022088876421581,-0.2532885875088979,0.7034312731481492,0.27780345487609454,-0.6943717285506149,0.1457230254072044,-0.27315007468653174]        |\n",
      "|Chicken Sandwich                                 |[1.0476161913572262,-0.5298046907320935,-0.878312363250084,0.47646327184899034,-0.26821136553282976,0.00213326488513737,-0.35452951832868546,0.05548217870526285]     |\n",
      "|4 Piece Grilled Chicken Nuggets                  |[3.8639104579716173,-1.5264911618701826,-0.349829640167268,0.21360741579549491,0.03922610576324116,0.5379522735258502,-0.6039607482948315,-0.22089994767324772]       |\n",
      "|6 Piece Grilled Chicken Nuggets                  |[3.514493213918051,-1.5126910326857879,-0.3212900944613161,0.4374855397155074,-0.023795466427225687,0.6080580636462879,-0.7788217023611499,-0.3530962791827437]       |\n",
      "|8 piece Grilled Chicken Nuggets                  |[3.144261439273218,-1.5007894982567422,-0.26435921689546726,0.6388484006552866,-0.0796867117291596,0.6825310463292594,-1.0486808648064625,-0.48926517684902293]       |\n",
      "|12 Piece Grilled Chicken Nuggets                 |[2.4593328207311367,-1.3477100945378768,-0.1247707573783274,1.1530030279912051,-0.0825628104607391,0.9655330818757474,-1.4344539219976478,-0.7476718094161267]        |\n",
      "|Smokehouse BBQ Bacon Sandwich                    |[0.8352955805731709,0.5039019176933025,0.46698253151705693,1.2988226842899357,0.25844411039954207,-0.04632928003207243,-0.5739888254972008,0.043165967917862126]      |\n",
      "|Spicy Chicken Sandwich                           |[0.9267234062735304,-0.6506738051027726,-0.9550776430947774,0.6670067403108696,-0.24550674077543433,-0.10192867282804513,-0.4807740065234461,0.150334931066617]       |\n",
      "|Spicy Deluxe                                     |[-0.01634114666387627,-0.2786574886368612,-0.06846650835335981,0.5274042998928431,-0.329206146432147,-0.5232695935982413,-0.6932570188684093,0.39006238864856535]     |\n",
      "|Chargrilled Chicken Cool Wrap                    |[0.951659863323089,2.3176340389618906,1.4900135844597489,-0.37369110932513866,-1.5326178660873526,-0.44490704765997213,0.33794306006016267,-1.5637900511059675]       |\n",
      "|Hatch Green Chile Cheeseburger                   |[-1.976890978775531,-1.7214375283574543,0.8417276897591504,-1.0323359819154088,0.5725536567328787,0.6418946615780449,0.15179593724900964,-0.034881757074913186]       |\n",
      "|Jalapeno Burger                                  |[-1.1425457020283427,-2.0051227348917786,0.2524381972261846,-1.0449461777334377,0.5828451509865505,0.28460185887363587,0.37025875754474286,-0.45368971827863375]      |\n",
      "|Jr. Burger                                       |[1.6958517670119415,-1.3433495245133626,-0.3999877570783559,-0.46043206213591903,0.6363690779722245,0.25652673692763767,0.4086520484304083,-0.1817709356569779]       |\n",
      "|Jr. Chili Cheeseburger                           |[1.0857519082083218,-1.4370573688229655,-0.2519917561670789,-0.35181454325750217,0.10460873928288629,-0.0044844930538544955,-0.03437097545750238,0.34135179923356923] |\n",
      "|Jr. Deluxe Burger                                |[1.5325669762459533,-1.604852837517633,-0.276172662953233,-0.5237442507511183,0.3575806593028453,0.2880026825403306,0.4721089825953022,-0.03021678564578186]          |\n",
      "|Jr. Deluxe Cheeseburger                          |[0.695003160410798,-1.646639162940436,-0.09342035226335899,-0.5591375214389858,0.22229519039639617,0.1567771253685059,0.19933944871286235,0.1780332495161283]         |\n",
      "|Jr. Double Cheeseburger                          |[-1.435246096272411,-2.1448816830395296,0.5998705372639309,-0.8687534761165386,0.7280468318810096,0.11028166246528034,0.053169244091552756,-0.15693658622382403]      |\n",
      "|Sonic Bacon Cheeseburger (w/mayo)                |[-3.2500157025872074,-2.3269942682867915,0.706925671766773,-0.9554386803714334,0.2849396290236654,0.20379145414578642,0.3024644366211779,0.38668982088377146]         |\n",
      "|Sonic Burger W/ Mustard                          |[-1.1092805701324204,-1.8922853090352127,0.39333548560264253,-1.0428924229192837,0.7246476157443476,0.3802402180034068,0.409202318495965,-0.3948183302850074]         |\n",
      "|Sonic Burger W/ Ketchup                          |[-1.2813748305230988,-1.6888714310053499,0.369864987358641,-0.9164900860612246,1.0275255781281694,0.3343431140347132,0.45841159154653616,-0.32164376887019147]        |\n",
      "|Sonic Burger W/ Mayonnaise                       |[-1.7614471019298459,-2.149801646264359,0.47276932515021297,-1.0259364182818327,0.5593700643673349,0.3505276194709315,0.60794698678882,0.008864100563446161]          |\n",
      "|Sonic Cheeseburger W/ Mustard                    |[-1.9625169906114313,-1.943796284710341,0.591718004792127,-1.0970467043593,0.5813216905433315,0.24775035954946198,0.11040542917406199,-0.16049174263115581]           |\n",
      "|Sonic Cheeseburger W/ Ketchup                    |[-2.099808820208061,-1.706071611861091,0.6215828652761183,-0.971052497241561,0.8964475675185511,0.1350142634265553,0.1869986277807124,-0.08697293146230511]           |\n",
      "|Sonic Cheeseburger W/ Mayonnaise                 |[-2.6021227844523183,-2.2025200797988758,0.6738508808499412,-1.0818414438928348,0.41945768366692526,0.2195163961583309,0.3056833055516737,0.24249496928860345]        |\n",
      "|Super Sonic Bacon Double Cheeseburger (w/mayo)   |[-7.823488812738407,-4.331751616382045,2.2372449258796654,-1.788552638779345,0.6500380975347388,0.5306550225153448,0.2465746363691843,-0.1655853815366692]            |\n",
      "|Super Sonic Double Cheeseburger W/ Mustard       |[-6.562560362841685,-3.7808498917116067,2.034367572483222,-1.815957370454921,0.9986715428215779,0.5786893230322693,0.0998381973717259,-0.6881485038020064]            |\n",
      "|Super Sonic Double Cheeseburger W/ Ketchup       |[-6.690582284576751,-3.555964907453436,2.0752555724600033,-1.6866872736521488,1.3148757354950886,0.4714353479109857,0.16586405189367337,-0.6138925592472212]          |\n",
      "|Super Sonic Double Cheeseburger W/ Mayo          |[-7.264630979969375,-4.073375026773852,2.1483329520454113,-1.8526330858618256,0.8504836358636942,0.5508233754733681,0.30887205521875793,-0.2521810183407639]          |\n",
      "|Super Sonic Jalapeno Double Cheeseburger         |[-6.59265441506243,-3.8852496302876047,1.9390802049050155,-1.8041008994708105,0.8574338093439096,0.4432985301682894,0.0654219573463773,-0.747074685921394]            |\n",
      "|Veggie Burger W/ Ketchup                         |[1.1961790611965986,0.9845047634368362,-1.2145743853065463,-0.27889976479909456,0.1357612419821498,-0.38953216799888984,0.5537217764681724,0.19367356862465485]       |\n",
      "|Veggie Burger With Mustard                       |[1.3026656244003858,0.8339999954764982,-1.1115280829511256,-0.40587081118865315,-0.18891308050270106,-0.34784625447171946,0.45616555178776275,0.1502221535408583]     |\n",
      "|Veggie Burger W/ Mustard                         |[1.3368021482020418,0.7995031239261304,-1.104396515269525,-0.3793431362024855,-0.17414569291792112,-0.3331477208645576,0.5079846522397553,0.13354818583834502]        |\n",
      "+-------------------------------------------------+----------------------------------------------------------------------------------------------------------------------------------------------------------------------+\n",
      "only showing top 100 rows\n",
      "\n"
     ]
    }
   ],
   "source": [
    "# Listando valores do PCA para cada tipo de comida (item)\n",
    "result_pca = result.select(\"item\",\"pca_values\")\n",
    "\n",
    "result_pca.show(truncate=False, n=100)\n",
    "time_pca = time.time() - start_time_pca"
   ]
  },
  {
   "cell_type": "code",
   "execution_count": 151,
   "id": "5c6d6c14",
   "metadata": {},
   "outputs": [
    {
     "name": "stdout",
     "output_type": "stream",
     "text": [
      "+-----------+----------------------------------------------------------------------------------------------------------------------------------------------------------------------+\n",
      "|restaurant |pca_values                                                                                                                                                            |\n",
      "+-----------+----------------------------------------------------------------------------------------------------------------------------------------------------------------------+\n",
      "|Mcdonalds  |[1.1788159481341611,0.3944007353733108,-0.6807703036542899,0.7783925742724711,0.5257680790499395,0.3647070217027599,-0.9144460452877392,-0.6495273284120207]          |\n",
      "|Mcdonalds  |[-2.909757904623884,-1.005643820662551,0.027344903643899892,0.03206045431927802,1.3925855008852248,0.34422485559596244,0.2755576836845075,0.22355862220989925]        |\n",
      "|Mcdonalds  |[-6.3906084925994575,-1.848590807869076,1.1433828582418035,-0.9751691237153021,1.5145354963990207,0.488749135550112,-0.3480649186319711,-0.3839823413997419]          |\n",
      "|Mcdonalds  |[-2.0971189534422705,-0.04796696459064477,-0.4918607037687284,1.2971684616215409,1.034032228043023,0.361828732944836,-0.7444086349218051,-0.12024627053258889]        |\n",
      "|Mcdonalds  |[-2.8333450400457862,0.2286034634145691,-0.7419290567197326,0.7515004233373674,0.581274102655249,-0.02511889517416294,0.4079592998234999,0.511851081822611]           |\n",
      "|Mcdonalds  |[-0.05956682835734734,-0.978567352855424,-0.20032065973209837,-0.38703647634451677,0.5411187942692297,-0.07550937843851618,0.37722694816804414,-0.15963709409391444]  |\n",
      "|Mcdonalds  |[2.03516730991981,-0.7730498954853771,-0.42202176964857707,-0.21306793494333134,0.5322366404249174,-0.05136100219707978,0.12029919915021986,-0.18895103521705223]     |\n",
      "|Mcdonalds  |[0.878351651896559,-0.5353650249749734,-0.9683403323787908,0.5644884903769705,-0.24071443541567217,0.04521454561432459,0.326910988745948,0.059631546422828724]        |\n",
      "|Mcdonalds  |[0.4124791581706698,-1.2190419910213888,0.21656180911426354,-0.2849607638036893,0.5635876151641982,-0.1009263576237571,-0.02390471730558917,-0.29426712719620535]     |\n",
      "|Mcdonalds  |[-3.1860108349233425,-2.2178357493256575,1.1217147321390044,-0.6761841286756077,1.0199783567061131,0.24295557394941547,0.06811013736563022,-0.9868395347623603]       |\n",
      "|Mcdonalds  |[1.8418145833561204,-0.6987160059796714,-0.8032986160053364,-0.1294596183974929,-0.042000683509764145,-0.09524811272491343,0.00918683939923333,0.34252411235301505]   |\n",
      "|Mcdonalds  |[-1.0060660505126493,-0.9610285263064771,0.24039829146877487,-1.0488248458058707,0.8863831616468371,0.10166596200610442,0.02014811561360822,-0.14144174185724862]     |\n",
      "|Mcdonalds  |[-0.16895196048103095,0.1864590535423112,-0.2983745903563481,0.47957993472728094,0.3409471798496839,0.156343885750322,-1.17462462251065,-0.10940262911354466]         |\n",
      "|Mcdonalds  |[-0.8533833446805099,0.48736487296610315,-0.5616856997347578,-0.08944688144125634,-0.10936245833674745,-0.23734257590964536,-0.0010407536933455463,0.5209291698643205]|\n",
      "|Mcdonalds  |[2.7329036000639966,-0.6433062862835613,-0.7753015669602324,0.04515459694847118,0.31433425200321896,0.07473490657583469,0.07755780431440328,-0.051511307967735113]    |\n",
      "|Mcdonalds  |[2.3360386045468022,-0.45799577730133856,-0.6585537521561549,0.22073887732729552,-0.08637556118388531,0.16150333582777046,-0.6604326920950896,-0.5121730949189314]    |\n",
      "|Mcdonalds  |[-1.3696866507357763,-1.349922739921601,0.26444383686734485,-0.30109046632099323,0.6705823074374058,0.46145263943847714,0.2725060624039385,-0.288677197370024]        |\n",
      "|Mcdonalds  |[-0.8883726912392462,0.4392192781151187,-0.4781503364176716,1.046299949388973,0.48012577950381546,0.4689330879722203,-1.1784098534138805,-0.08708336117116272]        |\n",
      "|Mcdonalds  |[-3.127568069994543,3.8363778107979525,-0.1304323487030061,-5.8060586440341275,-0.17611954953109668,-1.3663974615745582,-6.29937204413733,2.0992040933421197]         |\n",
      "|Mcdonalds  |[2.1093142193692116,-0.7102809157072085,-0.8361401235321312,0.12356808439679623,0.039644234752331524,0.01803518199947983,0.22344666279629044,0.11678924254118932]     |\n",
      "|Mcdonalds  |[0.9868843761545546,-1.201083827493774,-0.1364806927627999,-0.2768956322615328,0.6207872778364443,0.07728460600017524,0.10055339799025081,-0.4672872490814334]        |\n",
      "|Mcdonalds  |[0.734249877270479,-0.6149094571966393,-0.8500781573853274,0.5189932123132717,0.6690808925882422,-0.04678177841663593,0.0219305650953062,0.29403172412707523]         |\n",
      "|Mcdonalds  |[-0.6620924394560027,-1.1984775219951234,0.3355834304762065,-0.6648579542319447,0.3670110780749204,0.42862045643003244,0.5494176432510017,-0.43378877800050836]       |\n",
      "|Mcdonalds  |[-0.1528316076860779,0.578734969884256,-0.4528322122314114,0.6760554083576783,0.2896761983906175,0.26606609654838487,-0.8782435910399604,-0.23033027929829142]        |\n",
      "|Mcdonalds  |[-0.7372189109310735,0.8118014706950268,-0.7803735605251617,0.1021557516045166,-0.13163288666022033,-0.22598229868065292,0.24806714160444082,0.3059405335351455]      |\n",
      "|Mcdonalds  |[0.38122119466232995,0.37325255519590117,-0.9774537963480809,0.18684939714020773,0.17612154147804396,-0.13671836797405107,0.18196193896429097,0.15466558460408128]    |\n",
      "|Mcdonalds  |[0.7129396852910534,0.2993520827595076,-0.9803867367204532,0.23471307422949603,0.5099341188839025,-0.19009585020513683,0.16253851755604676,0.389301908303883]         |\n",
      "|Mcdonalds  |[-0.558522462812788,-1.1974267933175478,0.39171949617606683,-0.440626447667268,0.8926107565109642,-0.0176894471351893,0.26682560288417867,-0.5797987304181549]        |\n",
      "|Mcdonalds  |[-1.2866453088776062,-0.516980502045289,0.34040609509097913,-0.7365609629449168,0.9111648956233652,-0.05366726370857276,0.4076215149620937,-0.1942110588483942]       |\n",
      "|Mcdonalds  |[-0.3350843726110849,0.7936340422447612,-0.31590265251488175,0.8704779333072762,0.44338093363246456,-0.03744911924895583,-0.7529658587007217,-0.16977788983094289]    |\n",
      "|Mcdonalds  |[-0.902828663023429,0.8517046063965686,-0.5359981847290679,0.3008101761904503,0.02243827948148749,-0.39263212284036675,0.2727543640062174,0.5219972004193275]         |\n",
      "|Mcdonalds  |[-1.7001133056705284,-1.042949593730367,0.05529148282462169,-0.20024456031548346,1.0614512771802362,0.34816719737350177,0.42858184347839384,-0.19666829710138323]     |\n",
      "|Mcdonalds  |[-1.152379086580937,0.8816896607791942,-0.712979250250558,1.2320332789224877,0.776511392451655,0.3722437658895637,-0.7799656169415969,-0.16641707689099958]           |\n",
      "|Mcdonalds  |[-1.9081618353292524,0.8046815949228109,-0.8816823271016112,0.2753890109849853,0.6419339199850344,-0.05647275583812298,0.31234980782989075,0.2560087308457276]        |\n",
      "|Mcdonalds  |[1.6926580548695753,-1.7467920223281028,-0.5650757528628046,0.7307628501173058,-0.5024498158923332,0.26975261849716686,-0.5804317003050671,0.09566759443068826]       |\n",
      "|Mcdonalds  |[0.6712078717502354,-1.7752700390290124,-0.6186528197577498,1.144304130569012,-0.6172153054052466,0.24607500185575984,-0.7244912316281059,0.09811658275353671]        |\n",
      "|Mcdonalds  |[-1.6792310734309204,-2.035804978354244,-0.45598078725040747,1.4749439398953115,-0.9600139145142603,0.3004498058591117,-0.6711436547172994,-0.2619068104269083]       |\n",
      "|Mcdonalds  |[-5.6917858295165775,-2.3576072090541897,-0.48620389508564216,2.6436958639047923,-1.2764294845132724,0.29030619973803085,-1.0445496883742937,-0.5169439105850957]     |\n",
      "|Mcdonalds  |[-7.942124434065195,-2.6658464941660354,-0.41535738677620815,3.258648510410012,-1.9847290815316068,0.3168914697840776,-1.308213549879077,-0.417713375074308]          |\n",
      "|Mcdonalds  |[-15.724862964136923,-3.4739441670519886,-0.2706559316822797,5.215029143564523,-3.18905095209944,0.3646255396983848,-1.8127615821260403,-1.0634925990804034]          |\n",
      "|Mcdonalds  |[3.237405272478404,-1.448188235980949,-0.49476092826365203,0.061355508751552386,-0.2391667205586114,0.3160553907515688,-0.09439941694196023,0.07896459191511179]      |\n",
      "|Mcdonalds  |[2.6141630767097968,-1.4829628595677178,-0.533546578334697,0.2608926167363616,-0.37962965995771275,0.29277720425064085,-0.1216938299689299,0.10835504804213975]       |\n",
      "|Mcdonalds  |[1.2437936239890741,-1.405131820609728,-0.5117863929689528,0.4858490429223431,-0.7539575601748159,0.2720252042420427,-0.0565019616172428,0.18672205976407966]         |\n",
      "|Mcdonalds  |[-2.143287384194731,-1.2528015141452173,-0.5512988488516908,1.1926725858849827,-1.6577707421172687,0.2031783874141348,0.10527145605402548,0.31528774864271775]        |\n",
      "|Mcdonalds  |[-9.078806920701258,-1.3725160825998588,-0.49018875531512024,2.5139815752153067,-3.0541107200477073,0.16523018721212338,0.4746474813874459,0.38586232054962305]       |\n",
      "|Mcdonalds  |[-0.9569916139786299,0.8870214876447525,-1.4657246149607452,1.9877750315960017,2.828007424120183,-0.13267484518722325,0.06459394784073695,0.5256361890950181]         |\n",
      "|Mcdonalds  |[-3.752990294867906,2.1071609011872545,-1.9352447871429046,3.0386655479695976,4.11853200636126,-0.2653819274142503,0.1298710125694539,0.7865909966319127]             |\n",
      "|Mcdonalds  |[-9.310391801892488,4.4835745349569205,-2.8989201589821056,5.303727499202333,6.815547459872925,-0.7104959176702852,0.4264208992309655,1.2427201961633336]             |\n",
      "|Mcdonalds  |[3.7864702015006615,1.1028027015726798,4.1662915795742625,0.9077791217448303,0.2891627313710882,-2.4398251028451408,0.8100562332728255,0.09736505863009637]           |\n",
      "|Mcdonalds  |[2.1679614693159124,1.5292685532058108,4.470230222955713,2.0960371425430324,0.3814095814216334,-1.7721426772859785,-0.01843276939648058,-0.39001283528980013]         |\n",
      "|Mcdonalds  |[0.5696464286332044,0.6196072960058312,4.5282793015259175,1.7901648678516162,-0.5355960871019493,-2.0874382062904,0.14514281418086594,0.41646415789567925]            |\n",
      "|Mcdonalds  |[2.8227319020918684,0.4466429541191428,4.4449821898431905,1.1858122845358332,-0.12420355711148455,-2.24156488930182,0.1382003710982234,0.3781806478252124]            |\n",
      "|Mcdonalds  |[1.728254337995108,0.7060696752555586,4.507307049367317,1.935391489484753,-0.3073930309007358,-1.9781184974682726,-0.3797660576494401,-0.04680851272734414]           |\n",
      "|Mcdonalds  |[0.5696464286332044,0.6196072960058312,4.5282793015259175,1.7901648678516162,-0.5355960871019493,-2.0874382062904,0.14514281418086594,0.41646415789567925]            |\n",
      "|Mcdonalds  |[2.855869734796332,1.4896419453641137,3.9700124141839837,0.7259106110492147,0.2826754379426154,-2.731596177710622,0.7816857175929561,0.1758306115928496]              |\n",
      "|Mcdonalds  |[1.2006190938535073,1.4783185266470587,4.22929543348159,1.8645713132234798,0.08768431861335825,-2.308726576726079,-0.31926460677346163,-0.6347921324691483]           |\n",
      "|Mcdonalds  |[0.5767472434349266,1.6939825996432032,3.91652192461558,1.2658173495364329,-0.3293559142673059,-2.801720541004814,0.8166571018155586,-0.07865551717435655]            |\n",
      "|Chick Fil-A|[0.6817307468549887,0.20189852871816016,0.5926116687322015,0.5238005215980156,0.006027028081950149,0.33236776367919274,-0.7311927064364458,0.03382009650079627]       |\n",
      "|Chick Fil-A|[2.066349994424689,0.3776353405960605,0.22781757550756537,0.7332033510978105,0.18526540192171778,0.4986285494341293,-0.3051743559104347,-0.3651942916415568]          |\n",
      "|Chick Fil-A|[3.525657276105919,-1.5693494916181288,-0.4810860714827075,0.021117445142454977,0.07665292992051063,0.30231603376620847,-0.3941734014059581,0.06515835440727008]      |\n",
      "|Chick Fil-A|[2.522212474917761,-1.3684243565495764,-0.49715966115204585,0.36737230051603287,-0.2359491334497019,0.32528677833365005,-0.5353761296017607,-0.1525621007628767]      |\n",
      "|Chick Fil-A|[1.7067356332690689,-1.1905827666857645,-0.6193992889500357,0.6706844350363075,-0.21709128770216055,0.19495651916496645,-0.5690261615793226,-0.09304245043992061]     |\n",
      "|Chick Fil-A|[0.8035976073005012,-1.091506042439188,-0.6975899936405423,1.0267871783580858,-0.33185243561868966,0.18871555968706794,-0.7049826745201105,-0.08523563781172155]      |\n",
      "|Chick Fil-A|[0.35381539403468554,-0.2048452711239789,-0.06973059529544512,0.6012165482462093,-0.33162362037019943,-0.4655852770502428,-0.3090869143131773,0.16380458479980822]    |\n",
      "|Chick Fil-A|[3.35883214133705,-1.3822326529585214,-0.4609713155326332,0.2120678296055917,-0.19081945165460784,0.3774134146339125,-0.47463284149052926,-0.22738394470530185]       |\n",
      "|Chick Fil-A|[2.822909059058769,-1.3671122299848586,-0.46690352901709925,0.5082632429436437,-0.32579195527042654,0.4273072001995293,-0.6213469948655147,-0.3035979884766947]       |\n",
      "|Chick Fil-A|[2.1545550271414875,-1.3832154656195355,-0.5023947444789828,0.6940807621566999,-0.33345149684874725,0.3610808180764864,-0.7983696955610566,-0.320951235574995]        |\n",
      "|Chick Fil-A|[1.0338346330561485,-1.1354977228922922,-0.4988306537757512,1.3553522187526912,-0.7006044447901718,0.5146337007991746,-1.0571249343773645,-0.6697801685349549]        |\n",
      "|Chick Fil-A|[0.6673595372239094,0.6022088876421581,-0.2532885875088979,0.7034312731481492,0.27780345487609454,-0.6943717285506149,0.1457230254072044,-0.27315007468653174]        |\n",
      "|Chick Fil-A|[1.0476161913572262,-0.5298046907320935,-0.878312363250084,0.47646327184899034,-0.26821136553282976,0.00213326488513737,-0.35452951832868546,0.05548217870526285]     |\n",
      "|Chick Fil-A|[3.8639104579716173,-1.5264911618701826,-0.349829640167268,0.21360741579549491,0.03922610576324116,0.5379522735258502,-0.6039607482948315,-0.22089994767324772]       |\n",
      "|Chick Fil-A|[3.514493213918051,-1.5126910326857879,-0.3212900944613161,0.4374855397155074,-0.023795466427225687,0.6080580636462879,-0.7788217023611499,-0.3530962791827437]       |\n",
      "|Chick Fil-A|[3.144261439273218,-1.5007894982567422,-0.26435921689546726,0.6388484006552866,-0.0796867117291596,0.6825310463292594,-1.0486808648064625,-0.48926517684902293]       |\n",
      "|Chick Fil-A|[2.4593328207311367,-1.3477100945378768,-0.1247707573783274,1.1530030279912051,-0.0825628104607391,0.9655330818757474,-1.4344539219976478,-0.7476718094161267]        |\n",
      "|Chick Fil-A|[0.8352955805731709,0.5039019176933025,0.46698253151705693,1.2988226842899357,0.25844411039954207,-0.04632928003207243,-0.5739888254972008,0.043165967917862126]      |\n",
      "|Chick Fil-A|[0.9267234062735304,-0.6506738051027726,-0.9550776430947774,0.6670067403108696,-0.24550674077543433,-0.10192867282804513,-0.4807740065234461,0.150334931066617]       |\n",
      "|Chick Fil-A|[-0.01634114666387627,-0.2786574886368612,-0.06846650835335981,0.5274042998928431,-0.329206146432147,-0.5232695935982413,-0.6932570188684093,0.39006238864856535]     |\n",
      "|Chick Fil-A|[0.951659863323089,2.3176340389618906,1.4900135844597489,-0.37369110932513866,-1.5326178660873526,-0.44490704765997213,0.33794306006016267,-1.5637900511059675]       |\n",
      "|Sonic      |[-1.976890978775531,-1.7214375283574543,0.8417276897591504,-1.0323359819154088,0.5725536567328787,0.6418946615780449,0.15179593724900964,-0.034881757074913186]       |\n",
      "|Sonic      |[-1.1425457020283427,-2.0051227348917786,0.2524381972261846,-1.0449461777334377,0.5828451509865505,0.28460185887363587,0.37025875754474286,-0.45368971827863375]      |\n",
      "|Sonic      |[1.6958517670119415,-1.3433495245133626,-0.3999877570783559,-0.46043206213591903,0.6363690779722245,0.25652673692763767,0.4086520484304083,-0.1817709356569779]       |\n",
      "|Sonic      |[1.0857519082083218,-1.4370573688229655,-0.2519917561670789,-0.35181454325750217,0.10460873928288629,-0.0044844930538544955,-0.03437097545750238,0.34135179923356923] |\n",
      "|Sonic      |[1.5325669762459533,-1.604852837517633,-0.276172662953233,-0.5237442507511183,0.3575806593028453,0.2880026825403306,0.4721089825953022,-0.03021678564578186]          |\n",
      "|Sonic      |[0.695003160410798,-1.646639162940436,-0.09342035226335899,-0.5591375214389858,0.22229519039639617,0.1567771253685059,0.19933944871286235,0.1780332495161283]         |\n",
      "|Sonic      |[-1.435246096272411,-2.1448816830395296,0.5998705372639309,-0.8687534761165386,0.7280468318810096,0.11028166246528034,0.053169244091552756,-0.15693658622382403]      |\n",
      "|Sonic      |[-3.2500157025872074,-2.3269942682867915,0.706925671766773,-0.9554386803714334,0.2849396290236654,0.20379145414578642,0.3024644366211779,0.38668982088377146]         |\n",
      "|Sonic      |[-1.1092805701324204,-1.8922853090352127,0.39333548560264253,-1.0428924229192837,0.7246476157443476,0.3802402180034068,0.409202318495965,-0.3948183302850074]         |\n",
      "|Sonic      |[-1.2813748305230988,-1.6888714310053499,0.369864987358641,-0.9164900860612246,1.0275255781281694,0.3343431140347132,0.45841159154653616,-0.32164376887019147]        |\n",
      "|Sonic      |[-1.7614471019298459,-2.149801646264359,0.47276932515021297,-1.0259364182818327,0.5593700643673349,0.3505276194709315,0.60794698678882,0.008864100563446161]          |\n",
      "|Sonic      |[-1.9625169906114313,-1.943796284710341,0.591718004792127,-1.0970467043593,0.5813216905433315,0.24775035954946198,0.11040542917406199,-0.16049174263115581]           |\n",
      "|Sonic      |[-2.099808820208061,-1.706071611861091,0.6215828652761183,-0.971052497241561,0.8964475675185511,0.1350142634265553,0.1869986277807124,-0.08697293146230511]           |\n",
      "|Sonic      |[-2.6021227844523183,-2.2025200797988758,0.6738508808499412,-1.0818414438928348,0.41945768366692526,0.2195163961583309,0.3056833055516737,0.24249496928860345]        |\n",
      "|Sonic      |[-7.823488812738407,-4.331751616382045,2.2372449258796654,-1.788552638779345,0.6500380975347388,0.5306550225153448,0.2465746363691843,-0.1655853815366692]            |\n",
      "|Sonic      |[-6.562560362841685,-3.7808498917116067,2.034367572483222,-1.815957370454921,0.9986715428215779,0.5786893230322693,0.0998381973717259,-0.6881485038020064]            |\n",
      "|Sonic      |[-6.690582284576751,-3.555964907453436,2.0752555724600033,-1.6866872736521488,1.3148757354950886,0.4714353479109857,0.16586405189367337,-0.6138925592472212]          |\n",
      "|Sonic      |[-7.264630979969375,-4.073375026773852,2.1483329520454113,-1.8526330858618256,0.8504836358636942,0.5508233754733681,0.30887205521875793,-0.2521810183407639]          |\n",
      "|Sonic      |[-6.59265441506243,-3.8852496302876047,1.9390802049050155,-1.8041008994708105,0.8574338093439096,0.4432985301682894,0.0654219573463773,-0.747074685921394]            |\n",
      "|Sonic      |[1.1961790611965986,0.9845047634368362,-1.2145743853065463,-0.27889976479909456,0.1357612419821498,-0.38953216799888984,0.5537217764681724,0.19367356862465485]       |\n",
      "|Sonic      |[1.3026656244003858,0.8339999954764982,-1.1115280829511256,-0.40587081118865315,-0.18891308050270106,-0.34784625447171946,0.45616555178776275,0.1502221535408583]     |\n",
      "|Sonic      |[1.3368021482020418,0.7995031239261304,-1.104396515269525,-0.3793431362024855,-0.17414569291792112,-0.3331477208645576,0.5079846522397553,0.13354818583834502]        |\n",
      "+-----------+----------------------------------------------------------------------------------------------------------------------------------------------------------------------+\n",
      "only showing top 100 rows\n",
      "\n"
     ]
    }
   ],
   "source": [
    "# Listando valores do PCA por rede de fastfood (restaurant)\n",
    "result_pca = result.select(\"restaurant\",\"pca_values\")\n",
    "# Abririamos a possibilidade de analisar a relevância de cada componente \n",
    "# por rede de fastfood sem considerar o tipo de comida\n",
    "result_pca.show(truncate=False, n=100)\n",
    "time_pca = time.time() - start_time_pca"
   ]
  },
  {
   "attachments": {},
   "cell_type": "markdown",
   "id": "dc39585a",
   "metadata": {},
   "source": [
    "## Resultados do comparativo"
   ]
  },
  {
   "cell_type": "code",
   "execution_count": 152,
   "id": "97cdcf38",
   "metadata": {},
   "outputs": [
    {
     "name": "stdout",
     "output_type": "stream",
     "text": [
      "======================================================================================================================\n",
      "======================== Comparativo da Variância explicada e Tempo de cada um =======================================\n",
      "\n",
      "Singular Value Decomposition (SVD):  Representatividade = 86.95 %   Tempo Gasto = 1.226 s\n",
      "Principal Component Analysis (PCA):  Representatividade = 97.01 %   Tempo Gasto = 0.414 s\n",
      "======================================================================================================================\n"
     ]
    }
   ],
   "source": [
    "print(\"======================================================================================================================\")\n",
    "print(\"======================== Comparativo da Variância explicada e Tempo de cada um =======================================\")\n",
    "print()\n",
    "print(\"Singular Value Decomposition (SVD):  Representatividade = %3.2f %%   Tempo Gasto = %3.3f s\" % (exvar_svd*100, time_svd))\n",
    "print(\"Principal Component Analysis (PCA):  Representatividade = %3.2f %%   Tempo Gasto = %3.3f s\" % (exvar_pca*100, time_pca))\n",
    "print(\"======================================================================================================================\")"
   ]
  },
  {
   "cell_type": "code",
   "execution_count": 153,
   "id": "5ef603e7",
   "metadata": {},
   "outputs": [],
   "source": [
    "spark.stop()"
   ]
  }
 ],
 "metadata": {
  "kernelspec": {
   "display_name": "Python 3 (ipykernel)",
   "language": "python",
   "name": "python3"
  },
  "language_info": {
   "codemirror_mode": {
    "name": "ipython",
    "version": 3
   },
   "file_extension": ".py",
   "mimetype": "text/x-python",
   "name": "python",
   "nbconvert_exporter": "python",
   "pygments_lexer": "ipython3",
   "version": "3.11.4"
  }
 },
 "nbformat": 4,
 "nbformat_minor": 5
}
